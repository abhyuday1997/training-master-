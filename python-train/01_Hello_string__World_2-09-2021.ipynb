{
  "nbformat": 4,
  "nbformat_minor": 0,
  "metadata": {
    "kernelspec": {
      "display_name": "Python 3",
      "language": "python",
      "name": "python3"
    },
    "language_info": {
      "codemirror_mode": {
        "name": "ipython",
        "version": 3
      },
      "file_extension": ".py",
      "mimetype": "text/x-python",
      "name": "python",
      "nbconvert_exporter": "python",
      "pygments_lexer": "ipython3",
      "version": "3.5.1"
    },
    "colab": {
      "name": "01 Hello_string_ World.ipynb",
      "provenance": [],
      "collapsed_sections": []
    }
  },
  "cells": [
    {
      "cell_type": "code",
      "metadata": {
        "colab": {
          "base_uri": "https://localhost:8080/"
        },
        "id": "ZgViZ0ICs4-N",
        "outputId": "47f849f8-c1ed-45ec-e442-36092adfcb45"
      },
      "source": [
        "print('Hello Python GCIT world!')"
      ],
      "execution_count": 1,
      "outputs": [
        {
          "output_type": "stream",
          "name": "stdout",
          "text": [
            "Hello Python GCIT world!\n"
          ]
        }
      ]
    },
    {
      "cell_type": "code",
      "metadata": {
        "colab": {
          "base_uri": "https://localhost:8080/"
        },
        "id": "9trDDG9YthUj",
        "outputId": "5d080f5b-00c1-4da5-b025-abf6b23facfc"
      },
      "source": [
        "message = \"Hello Python world!\"\n",
        "print(message)"
      ],
      "execution_count": 2,
      "outputs": [
        {
          "output_type": "stream",
          "name": "stdout",
          "text": [
            "Hello Python world!\n"
          ]
        }
      ]
    },
    {
      "cell_type": "markdown",
      "metadata": {
        "id": "e-kWLzLauoYl"
      },
      "source": [
        "# Multiline_String"
      ]
    },
    {
      "cell_type": "code",
      "metadata": {
        "id": "knk3Xtl6ulbY"
      },
      "source": [
        "multiline_string = '''Myself_Abhyuday\n",
        "preparing my kernel for '\\\\'\n",
        "python_training.\n",
        "'''"
      ],
      "execution_count": 8,
      "outputs": []
    },
    {
      "cell_type": "code",
      "metadata": {
        "colab": {
          "base_uri": "https://localhost:8080/"
        },
        "id": "tg15Q0z2uuFZ",
        "outputId": "84cd6138-5321-4d29-8937-31acbc7adcb6"
      },
      "source": [
        "print(multiline_string)"
      ],
      "execution_count": 9,
      "outputs": [
        {
          "output_type": "stream",
          "name": "stdout",
          "text": [
            "Myself_Abhyuday\n",
            "preparing my kernel for '\\'\n",
            "python_training.\n",
            "\n"
          ]
        }
      ]
    },
    {
      "cell_type": "markdown",
      "metadata": {
        "id": "H2LDtaQdvHIQ"
      },
      "source": [
        "# Changing case of text"
      ]
    },
    {
      "cell_type": "code",
      "metadata": {
        "colab": {
          "base_uri": "https://localhost:8080/"
        },
        "id": "ox6NVwTmu5Je",
        "outputId": "9e7c0c40-8325-4064-dc0c-dd3cf92c6576"
      },
      "source": [
        "first_name = 'Abhi'\n",
        "\n",
        "print(first_name)\n",
        "print(first_name.title())\n",
        "print(first_name.upper())\n",
        "print(first_name.lower())"
      ],
      "execution_count": 11,
      "outputs": [
        {
          "output_type": "stream",
          "name": "stdout",
          "text": [
            "Abhi\n",
            "Abhi\n",
            "ABHI\n",
            "abhi\n"
          ]
        }
      ]
    },
    {
      "cell_type": "markdown",
      "metadata": {
        "id": "x5oXyXHSvlUJ"
      },
      "source": [
        "# Concatenation of string"
      ]
    },
    {
      "cell_type": "code",
      "metadata": {
        "colab": {
          "base_uri": "https://localhost:8080/"
        },
        "id": "twI6OkItvNUN",
        "outputId": "07e7d150-0ace-4d52-8751-1eafe936914e"
      },
      "source": [
        "first_name = 'Abhyuday'\n",
        "last_name = 'suraparaju'\n",
        "full_name = first_name + ' ' + last_name\n",
        "\n",
        "message = full_name.title() + ' ' + \\\n",
        "        \"was performing programming for data engieering at GCIT.\"\n",
        "\n",
        "print(message)"
      ],
      "execution_count": 12,
      "outputs": [
        {
          "output_type": "stream",
          "name": "stdout",
          "text": [
            "Abhyuday Suraparaju was performing programming for data engieering at GCIT.\n"
          ]
        }
      ]
    },
    {
      "cell_type": "code",
      "metadata": {
        "colab": {
          "base_uri": "https://localhost:8080/"
        },
        "id": "ecuKQTN7v4ch",
        "outputId": "4da38030-155a-49e2-a7ea-4fa8c3485ade"
      },
      "source": [
        "string_template = 'The result of the calculation of {calc} is {res}'\n",
        "print(\"String Template: \", string_template)\n",
        "\n",
        "print(string_template.format(calc='(3*4)+2', res=(3*4)+2))"
      ],
      "execution_count": 13,
      "outputs": [
        {
          "output_type": "stream",
          "name": "stdout",
          "text": [
            "String Template:  The result of the calculation of {calc} is {res}\n",
            "The result of the calculation of (3*4)+2 is 14\n"
          ]
        }
      ]
    },
    {
      "cell_type": "markdown",
      "metadata": {
        "id": "2Knl513IwzP8"
      },
      "source": [
        "# WhiteSpace"
      ]
    },
    {
      "cell_type": "code",
      "metadata": {
        "colab": {
          "base_uri": "https://localhost:8080/"
        },
        "id": "JDNgI-cdwuoL",
        "outputId": "d84b45bc-e4e7-45b6-bf40-0b7c892945ac"
      },
      "source": [
        "print(\"Hello \\teveryone!\") # \\t makes tab appear in string"
      ],
      "execution_count": 14,
      "outputs": [
        {
          "output_type": "stream",
          "name": "stdout",
          "text": [
            "Hello \teveryone!\n"
          ]
        }
      ]
    },
    {
      "cell_type": "code",
      "metadata": {
        "colab": {
          "base_uri": "https://localhost:8080/"
        },
        "id": "u6bIYpzuw4g4",
        "outputId": "c1d7df3a-2c67-4e10-c3f4-b5d81e8bcbdf"
      },
      "source": [
        "print(\"\\n\\n\\nHello everyone!\") # \\n uses new-line appear in string"
      ],
      "execution_count": 15,
      "outputs": [
        {
          "output_type": "stream",
          "name": "stdout",
          "text": [
            "\n",
            "\n",
            "\n",
            "Hello everyone!\n"
          ]
        }
      ]
    },
    {
      "cell_type": "code",
      "metadata": {
        "colab": {
          "base_uri": "https://localhost:8080/"
        },
        "id": "T3DuRfb3w7sh",
        "outputId": "1e6b167d-4401-47d6-da92-1b58fb8138db"
      },
      "source": [
        "name = ' ericcson '\n",
        "\n",
        "print('-' + name.lstrip() + '*') # strip white space on left side\n",
        "print('-' + name.rstrip() + '*') # strip white space on right side\n",
        "print('-' + name.strip() + '*') # strip space on both sides "
      ],
      "execution_count": 16,
      "outputs": [
        {
          "output_type": "stream",
          "name": "stdout",
          "text": [
            "-ericcson *\n",
            "- ericcson*\n",
            "-ericcson*\n"
          ]
        }
      ]
    },
    {
      "cell_type": "markdown",
      "metadata": {
        "id": "YI1MXuaPy-Lb"
      },
      "source": [
        "# Integers"
      ]
    },
    {
      "cell_type": "code",
      "metadata": {
        "colab": {
          "base_uri": "https://localhost:8080/"
        },
        "id": "0y2BKeo6yIXl",
        "outputId": "53a609f7-db07-45f4-be98-0d14e71b866e"
      },
      "source": [
        "my_order = (2+3)*4\n",
        "print(my_order)"
      ],
      "execution_count": 17,
      "outputs": [
        {
          "output_type": "stream",
          "name": "stdout",
          "text": [
            "20\n"
          ]
        }
      ]
    },
    {
      "cell_type": "markdown",
      "metadata": {
        "id": "nDyH85M7zebg"
      },
      "source": [
        "# Floating-Numbers"
      ]
    },
    {
      "cell_type": "code",
      "metadata": {
        "colab": {
          "base_uri": "https://localhost:8080/"
        },
        "id": "p0c07y0IzA3l",
        "outputId": "ffd66fa8-bc77-4cd8-8133-7c0a08f19684"
      },
      "source": [
        "print(3*0.1)"
      ],
      "execution_count": 18,
      "outputs": [
        {
          "output_type": "stream",
          "name": "stdout",
          "text": [
            "0.30000000000000004\n"
          ]
        }
      ]
    },
    {
      "cell_type": "code",
      "metadata": {
        "colab": {
          "base_uri": "https://localhost:8080/"
        },
        "id": "x9BKHDWLzjVK",
        "outputId": "daf3a191-01b1-4cb8-9321-6d3bce26a313"
      },
      "source": [
        "# Test\n",
        "3 * 0.1 != 0.3"
      ],
      "execution_count": 20,
      "outputs": [
        {
          "output_type": "execute_result",
          "data": {
            "text/plain": [
              "True"
            ]
          },
          "metadata": {},
          "execution_count": 20
        }
      ]
    },
    {
      "cell_type": "code",
      "metadata": {
        "id": "2Endm8z8zwL2"
      },
      "source": [
        "from decimal import Decimal, getcontext"
      ],
      "execution_count": 21,
      "outputs": []
    },
    {
      "cell_type": "code",
      "metadata": {
        "colab": {
          "base_uri": "https://localhost:8080/"
        },
        "id": "YNSfFEIW1Xdb",
        "outputId": "3715d815-feb2-497b-a5b3-832de73ed177"
      },
      "source": [
        "getcontext().prec = 2\n",
        "result = 3 * Decimal(0.1)\n",
        "print(type(result))\n",
        "print(3 * Decimal(0.1))\n",
        "print(3 * 0.1)"
      ],
      "execution_count": 22,
      "outputs": [
        {
          "output_type": "stream",
          "name": "stdout",
          "text": [
            "<class 'decimal.Decimal'>\n",
            "0.30\n",
            "0.30000000000000004\n"
          ]
        }
      ]
    },
    {
      "cell_type": "code",
      "metadata": {
        "colab": {
          "base_uri": "https://localhost:8080/"
        },
        "id": "-g8XlL0L1baT",
        "outputId": "83396c1f-adae-43cb-a6e0-a7f3fed032d6"
      },
      "source": [
        "result = (3*4)+2\n",
        "print('The result of the calculation of (3*4)+2', result, sep=' = ')"
      ],
      "execution_count": 23,
      "outputs": [
        {
          "output_type": "stream",
          "name": "stdout",
          "text": [
            "The result of the calculation of (3*4)+2 = 14\n"
          ]
        }
      ]
    },
    {
      "cell_type": "code",
      "metadata": {
        "id": "dBgy_h_p1o4h"
      },
      "source": [
        ""
      ],
      "execution_count": null,
      "outputs": []
    }
  ]
}